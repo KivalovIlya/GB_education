{
  "nbformat": 4,
  "nbformat_minor": 0,
  "metadata": {
    "colab": {
      "provenance": [],
      "collapsed_sections": []
    },
    "kernelspec": {
      "name": "python3",
      "display_name": "Python 3"
    },
    "language_info": {
      "name": "python"
    }
  },
  "cells": [
    {
      "cell_type": "markdown",
      "source": [
        "### Задача 1\n",
        "Даны значения величины заработной платы заемщиков банка (salary) и значения их поведенческого кредитного скоринга (scoring):\n",
        "salary = [35, 45, 190, 200, 40, 70, 54, 150, 120, 110]\n",
        "scoring = [401, 574, 874, 919, 459, 739, 653, 902, 746, 832]\n",
        "Возьмём в качестве признака значение salary, а в качестве целевой переменной - scoring.\n",
        "\n",
        "    Найдите коэффициенты линейной регрессии с помощью формул для парной регрессии, а затем с помощью метода наименьших квадратов.\n",
        "    Постройте scatter plot по данным и отметьте на нём прямую линейной регрессии, полученную в п. 1.\n",
        "    Посчитайте коэффициент детерминации, среднюю ошибку аппроксимации.\n",
        "    Оцените построенное уравнение регрессии с помощью F-критерия Фишера.\n",
        "    Оцените значимость получившихся параметров уравнения регрессии и постройте для них доверительные интервалы с помощью t-статистики Стьюдента.\n"
      ],
      "metadata": {
        "id": "OqbJWTBu4XAo"
      }
    },
    {
      "cell_type": "code",
      "source": [
        "import numpy as np\n",
        "\n",
        "salary = np.array([35, 45, 190, 200, 40, 70, 54, 150, 120, 110])\n",
        "scoring = np.array([401, 574, 874, 919, 459, 739, 653, 902, 746, 832])"
      ],
      "metadata": {
        "id": "6lj5ouBo4gt1"
      },
      "execution_count": null,
      "outputs": []
    },
    {
      "cell_type": "markdown",
      "source": [
        "Найдите коэффициенты линейной регрессии с помощью формул для парной регрессии.\n",
        "\n",
        "$$b_1 = \\frac{\\overline{yx} - \\overline{y} \\cdot {\\overline{x}}}{\\overline{x^2} - (\\overline{x})^2}, \\: b_0 = \\overline{y} - b_1 \\cdot {\\overline{x}}.$$\n",
        "\n",
        "Здесь $x$, $y$ — данные из выборки, $\\overline{x}$ обозначает выборочное среднее."
      ],
      "metadata": {
        "id": "DLl2XFo54-VC"
      }
    },
    {
      "cell_type": "code",
      "source": [
        "x = salary\n",
        "y = scoring\n",
        "\n",
        "b1 = (np.mean(x * y) - np.mean(x) * np.mean(y)) / (np.mean(x ** 2) - np.mean(x) ** 2)\n",
        "b0 = np.mean(y) - b1 * np.mean(x)\n",
        "print(b1, b0)"
      ],
      "metadata": {
        "colab": {
          "base_uri": "https://localhost:8080/"
        },
        "id": "nw5wd2KJ5Anx",
        "outputId": "959164d8-e26a-4154-e6a4-687b5d227a27"
      },
      "execution_count": null,
      "outputs": [
        {
          "output_type": "stream",
          "name": "stdout",
          "text": [
            "2.620538882402765 444.1773573243596\n"
          ]
        }
      ]
    },
    {
      "cell_type": "markdown",
      "source": [
        "$$y = 444.17 + 2.62 \\cdot x$$"
      ],
      "metadata": {
        "id": "XfoqZNU07kJn"
      }
    },
    {
      "cell_type": "code",
      "source": [
        "from matplotlib import pyplot as plt\n",
        "\n",
        "ox = salary\n",
        "oy = b0 + b1 * ox\n",
        "\n",
        "plt.scatter(salary, scoring)\n",
        "plt.plot(ox, oy, color='green')"
      ],
      "metadata": {
        "colab": {
          "base_uri": "https://localhost:8080/",
          "height": 283
        },
        "id": "-EsVgs1B7-hk",
        "outputId": "10a52c29-883b-4cd6-8ee4-2066e85150d8"
      },
      "execution_count": null,
      "outputs": [
        {
          "output_type": "execute_result",
          "data": {
            "text/plain": [
              "[<matplotlib.lines.Line2D at 0x7fc012c9b510>]"
            ]
          },
          "metadata": {},
          "execution_count": 21
        },
        {
          "output_type": "display_data",
          "data": {
            "text/plain": [
              "<Figure size 432x288 with 1 Axes>"
            ],
            "image/png": "[encoded data removed]"
          },
          "metadata": {
            "needs_background": "light"
          }
        }
      ]
    },
    {
      "cell_type": "code",
      "source": [
        "#real scoring = np.array([401, 574, 874, 919, 459, 739, 653, 902, 746, 832])\n",
        "#pred:\n",
        "pred = list()\n",
        "for el in salary:\n",
        "  pred.append(int(444.17 + 2.62*el))\n",
        "print(pred)\n",
        "\n",
        "predict = np.array(pred)"
      ],
      "metadata": {
        "colab": {
          "base_uri": "https://localhost:8080/"
        },
        "id": "Y9sAhnynbzES",
        "outputId": "68c2bb6d-6a88-4da0-f031-a9b98a8167e4"
      },
      "execution_count": null,
      "outputs": [
        {
          "output_type": "stream",
          "name": "stdout",
          "text": [
            "[535, 562, 941, 968, 548, 627, 585, 837, 758, 732]\n"
          ]
        }
      ]
    },
    {
      "cell_type": "code",
      "source": [
        "plt.scatter(salary, scoring)\n",
        "plt.scatter(salary, pred, color='red')\n",
        "plt.plot(ox, oy, color='black')"
      ],
      "metadata": {
        "colab": {
          "base_uri": "https://localhost:8080/",
          "height": 283
        },
        "id": "v8toitwDdhGD",
        "outputId": "dd0f5743-51dc-49b8-8458-9297a973dfdd"
      },
      "execution_count": null,
      "outputs": [
        {
          "output_type": "execute_result",
          "data": {
            "text/plain": [
              "[<matplotlib.lines.Line2D at 0x7fc00fe80990>]"
            ]
          },
          "metadata": {},
          "execution_count": 28
        },
        {
          "output_type": "display_data",
          "data": {
            "text/plain": [
              "<Figure size 432x288 with 1 Axes>"
            ],
            "image/png": "[encoded data removed]"
          },
          "metadata": {
            "needs_background": "light"
          }
        }
      ]
    },
    {
      "cell_type": "code",
      "source": [
        "#посчитаем R\n",
        "R = predict.var() / scoring.var()\n",
        "R"
      ],
      "metadata": {
        "colab": {
          "base_uri": "https://localhost:8080/"
        },
        "id": "XuOrpXQUd5tg",
        "outputId": "e25fbe3e-872a-45a6-8a13-8da9ce9ecf42"
      },
      "execution_count": null,
      "outputs": [
        {
          "output_type": "execute_result",
          "data": {
            "text/plain": [
              "0.7880959890563783"
            ]
          },
          "metadata": {},
          "execution_count": 31
        }
      ]
    },
    {
      "cell_type": "markdown",
      "source": [
        "Коэффициент детерминации, равный $0.788$, означает, что $78 \\%$ дисперсии переменной $y$ _учитывается_ или _объясняется_ моделью. Оставшиеся $22 \\%$ обусловлены какими-то ещё факторами, которые модель не учла."
      ],
      "metadata": {
        "id": "ppmnFku-eYSr"
      }
    },
    {
      "cell_type": "code",
      "source": [
        "#посчитает r2_score (детерминацию)\n",
        "from sklearn.metrics import r2_score\n",
        "\n",
        "r2 = r2_score(scoring, predict)\n",
        "r2"
      ],
      "metadata": {
        "colab": {
          "base_uri": "https://localhost:8080/"
        },
        "id": "5KGKLn6Relp1",
        "outputId": "0cc93cda-7866-43d1-fbe2-efca7f8637a5"
      },
      "execution_count": null,
      "outputs": [
        {
          "output_type": "execute_result",
          "data": {
            "text/plain": [
              "0.7884793308847156"
            ]
          },
          "metadata": {},
          "execution_count": 32
        }
      ]
    },
    {
      "cell_type": "markdown",
      "source": [
        "Коэф. близок к 80%, что говорит об успехе модели.\n"
      ],
      "metadata": {
        "id": "NqBCU1gOgNBY"
      }
    },
    {
      "cell_type": "code",
      "source": [
        "#расчитаем ошибку апроксимации\n",
        "\n",
        "def mean_approximation_error(y_real, y_pred):\n",
        "    return np.abs((y_real - y_pred) / y_real).mean()\n",
        "\n",
        "mean_approximation_error(scoring, predict)"
      ],
      "metadata": {
        "colab": {
          "base_uri": "https://localhost:8080/"
        },
        "id": "_UB-7a25gRUc",
        "outputId": "b9110676-fa20-48cc-fd33-530a7feb7481"
      },
      "execution_count": null,
      "outputs": [
        {
          "output_type": "execute_result",
          "data": {
            "text/plain": [
              "0.11429792601569859"
            ]
          },
          "metadata": {},
          "execution_count": 33
        }
      ]
    },
    {
      "cell_type": "markdown",
      "source": [
        "Ошибка составила более 10%, не очень.. =("
      ],
      "metadata": {
        "id": "JISPElHPmZaP"
      }
    },
    {
      "cell_type": "markdown",
      "source": [
        "### Оценка значимости уравнения линейной регрессии\n",
        "\n",
        "Оценить статистическую значимость уравнения линейной регрессии в целом можно с помощью __F-критерия Фишера__. Соответствующая статистика равна\n",
        "\n",
        "$$T = \\dfrac{R^2}{1 - R^2} \\cdot \\dfrac{n - k - 1}{k},$$\n",
        "\n",
        "где $R^2$ - коэффициент детерминации, $n$ - число наблюдений, $k$ - число факторов. В литературе часто используются обозначения $k_1 = k$, $k_2 = n - k - 1$ (иногда вместо $k_1$, $k_2$ пишут также $f_1$, $f_2$).\n",
        "\n",
        "По таблице (например, по [такой](https://www.chem-astu.ru/science/reference/F-statistic.html)) вычисляется критическое значение $F_{сrit} = F(k_1, k_2)$. Это же значение можно вычислить с помощью функции `scipy.stats.f.ppf`.\n",
        "\n",
        "Если $T > F_{crit}$, то уравнение регрессии признаётся статистически значимым."
      ],
      "metadata": {
        "id": "nFZxc6pUmlo-"
      }
    },
    {
      "cell_type": "code",
      "source": [
        "k1 = 1\n",
        "k2 = 8\n",
        "\n",
        "T1 = (R / (1 - R)) * (k2 / k1)\n",
        "T1"
      ],
      "metadata": {
        "colab": {
          "base_uri": "https://localhost:8080/"
        },
        "id": "hFliY0B7nPxy",
        "outputId": "1eacd544-403b-470a-8e75-27de2e981e20"
      },
      "execution_count": null,
      "outputs": [
        {
          "output_type": "execute_result",
          "data": {
            "text/plain": [
              "29.752942779966766"
            ]
          },
          "metadata": {},
          "execution_count": 34
        }
      ]
    },
    {
      "cell_type": "code",
      "source": [
        "from scipy import stats\n",
        "\n",
        "alpha = 0.05\n",
        "\n",
        "F_crit = stats.f.ppf(1 - alpha, k1, k2)\n",
        "F_crit"
      ],
      "metadata": {
        "colab": {
          "base_uri": "https://localhost:8080/"
        },
        "id": "3GOFECNbn_Pt",
        "outputId": "47841c0a-5a99-42a6-ff14-71a8471bf5f4"
      },
      "execution_count": null,
      "outputs": [
        {
          "output_type": "execute_result",
          "data": {
            "text/plain": [
              "5.317655071578714"
            ]
          },
          "metadata": {},
          "execution_count": 35
        }
      ]
    },
    {
      "cell_type": "markdown",
      "source": [
        "Имеем T>Fcrit, поэтому уравнение регрессии статистически значимо."
      ],
      "metadata": {
        "id": "rGQbm-VYoNKO"
      }
    },
    {
      "cell_type": "markdown",
      "source": [
        "Оцените значимость получившихся параметров уравнения регрессии и постройте для них доверительные интервалы с помощью t-статистики Стьюдента."
      ],
      "metadata": {
        "id": "IVZgiC36o7jx"
      }
    },
    {
      "cell_type": "code",
      "source": [
        "def standard_error_slope(x, y, z):\n",
        "    n = x.shape[0]\n",
        "    \n",
        "    upper = ((y - z) ** 2).sum() / (n - 2)\n",
        "    lower = ((x - x.mean()) ** 2).sum()\n",
        "    \n",
        "    return np.sqrt(upper / lower)\n",
        "\n",
        "\n",
        "b0 = 447.17\n",
        "b1 = 2.62\n",
        "\n",
        "s_slope = standard_error_slope(salary, scoring, predict)\n",
        "s_slope"
      ],
      "metadata": {
        "colab": {
          "base_uri": "https://localhost:8080/"
        },
        "id": "XDh4XOI0pAFo",
        "outputId": "4b250068-6420-42f7-96fe-d81fd6d1557d"
      },
      "execution_count": null,
      "outputs": [
        {
          "output_type": "execute_result",
          "data": {
            "text/plain": [
              "0.48012962865914677"
            ]
          },
          "metadata": {},
          "execution_count": 36
        }
      ]
    },
    {
      "cell_type": "markdown",
      "source": [
        "Зададим уровень значимости $\\alpha = 0.05$. В нашем случае $n = 10$, поэтому нас интересует квантиль $t_{1 - 0.05/2, \\: 8} = 2.8412$. Значение статистики $T$:"
      ],
      "metadata": {
        "id": "awddvdwHqFP_"
      }
    },
    {
      "cell_type": "code",
      "source": [
        "T = b1 / s_slope\n",
        "T"
      ],
      "metadata": {
        "colab": {
          "base_uri": "https://localhost:8080/"
        },
        "id": "vUozwwDFqlHu",
        "outputId": "a5456dc7-3eab-4fbd-9dff-e6258343339a"
      },
      "execution_count": null,
      "outputs": [
        {
          "output_type": "execute_result",
          "data": {
            "text/plain": [
              "5.456859655416076"
            ]
          },
          "metadata": {},
          "execution_count": 37
        }
      ]
    },
    {
      "cell_type": "code",
      "source": [
        "t = 2.8412\n",
        "(b1 - t * s_slope, b1 + t * s_slope)"
      ],
      "metadata": {
        "colab": {
          "base_uri": "https://localhost:8080/"
        },
        "id": "9kJ8ymHkq5ox",
        "outputId": "5a089175-083f-4da0-c4ed-f239b1a45ec5"
      },
      "execution_count": null,
      "outputs": [
        {
          "output_type": "execute_result",
          "data": {
            "text/plain": [
              "(1.2558556990536323, 3.984144300946368)"
            ]
          },
          "metadata": {},
          "execution_count": 38
        }
      ]
    },
    {
      "cell_type": "markdown",
      "source": [
        "b1 попадает, в область"
      ],
      "metadata": {
        "id": "BL6QZYclrJpw"
      }
    },
    {
      "cell_type": "code",
      "source": [
        "def standard_error_intercept(x, y, z):\n",
        "    return standard_error_slope(x, y, z) * np.sqrt((x ** 2).mean())\n",
        "\n",
        "s_intercept = standard_error_intercept(salary, scoring, predict)\n",
        "s_intercept"
      ],
      "metadata": {
        "colab": {
          "base_uri": "https://localhost:8080/"
        },
        "id": "Mr53mQ92rUTv",
        "outputId": "5dc314a0-37f1-45a0-d884-cfe1ce835364"
      },
      "execution_count": null,
      "outputs": [
        {
          "output_type": "execute_result",
          "data": {
            "text/plain": [
              "56.35462075104849"
            ]
          },
          "metadata": {},
          "execution_count": 40
        }
      ]
    },
    {
      "cell_type": "markdown",
      "source": [
        "Значение статистики $T$:"
      ],
      "metadata": {
        "id": "fXyBOwThrcty"
      }
    },
    {
      "cell_type": "code",
      "source": [
        "T = b0 / s_intercept\n",
        "T"
      ],
      "metadata": {
        "colab": {
          "base_uri": "https://localhost:8080/"
        },
        "id": "RPZP4QhOreFq",
        "outputId": "3b2ee1cf-196e-474e-d60a-60c1fa0e22ad"
      },
      "execution_count": null,
      "outputs": [
        {
          "output_type": "execute_result",
          "data": {
            "text/plain": [
              "7.934930517506505"
            ]
          },
          "metadata": {},
          "execution_count": 41
        }
      ]
    },
    {
      "cell_type": "code",
      "source": [
        "(b0 - t * s_intercept, b0 + t * s_intercept)"
      ],
      "metadata": {
        "colab": {
          "base_uri": "https://localhost:8080/"
        },
        "id": "XWcfN-Fct1rJ",
        "outputId": "0d381d02-1c94-49d2-d0bd-e40220ccfe08"
      },
      "execution_count": null,
      "outputs": [
        {
          "output_type": "execute_result",
          "data": {
            "text/plain": [
              "(287.055251522121, 607.284748477879)"
            ]
          },
          "metadata": {},
          "execution_count": 42
        }
      ]
    },
    {
      "cell_type": "markdown",
      "source": [
        "Значение попало в критическую область, значит, значение параметра $b_0$ является значимым."
      ],
      "metadata": {
        "id": "NxqSW6oBt3Q5"
      }
    },
    {
      "cell_type": "markdown",
      "source": [
        "### Задача 2"
      ],
      "metadata": {
        "id": "TaUI9v5N40vd"
      }
    },
    {
      "cell_type": "markdown",
      "source": [
        "В каких случаях для вычисления доверительных интервалов и проверки статистических гипотез используется таблица значений функции Лапласа, а в каких - таблица квантилей распределения Стьюдента?"
      ],
      "metadata": {
        "id": "SMgOtWD24dma"
      }
    },
    {
      "cell_type": "markdown",
      "source": [
        "Когда знаем дисперсию генеральной совокупности, тогда используем функцию лапласа, иначе – распределение стьюдента"
      ],
      "metadata": {
        "id": "E54Hly96yfH3"
      }
    },
    {
      "cell_type": "code",
      "source": [],
      "metadata": {
        "id": "hRPc73AXVa0k"
      },
      "execution_count": null,
      "outputs": []
    }
  ]
}