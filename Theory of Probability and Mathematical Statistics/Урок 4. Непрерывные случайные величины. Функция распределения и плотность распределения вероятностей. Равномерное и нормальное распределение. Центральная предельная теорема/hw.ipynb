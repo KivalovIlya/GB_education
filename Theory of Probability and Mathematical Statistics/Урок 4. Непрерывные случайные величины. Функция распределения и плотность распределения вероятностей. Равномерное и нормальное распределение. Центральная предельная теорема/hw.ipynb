{
  "nbformat": 4,
  "nbformat_minor": 0,
  "metadata": {
    "colab": {
      "provenance": [],
      "collapsed_sections": [
        "bixfKTrRSssi",
        "F1sq6q05SyP3",
        "wcEs30knS414",
        "99vcLTNxTFyd",
        "sfa9kwD3TSH2"
      ]
    },
    "kernelspec": {
      "name": "python3",
      "display_name": "Python 3"
    },
    "language_info": {
      "name": "python"
    }
  },
  "cells": [
    {
      "cell_type": "markdown",
      "source": [
        "## 1.  Случайная непрерывная величина A имеет равномерное распределение на промежутке (200, 800]. Найдите ее среднее значение и дисперсию."
      ],
      "metadata": {
        "id": "bixfKTrRSssi"
      }
    },
    {
      "cell_type": "code",
      "source": [
        "#дисперсия\n",
        "print((pow(800-200, 2))/12)\n",
        "\n",
        "#среднее значение\n",
        "print((800+200)/2)"
      ],
      "metadata": {
        "colab": {
          "base_uri": "https://localhost:8080/"
        },
        "id": "Vgx4k3M5SxCc",
        "outputId": "e637dae6-5f97-496b-b327-2b097f0b9d5c"
      },
      "execution_count": null,
      "outputs": [
        {
          "output_type": "stream",
          "name": "stdout",
          "text": [
            "30000.0\n",
            "500.0\n"
          ]
        }
      ]
    },
    {
      "cell_type": "markdown",
      "source": [
        "## 2. О случайной непрерывной равномерно распределенной величине B известно, что ее дисперсия равна 0.2. Можно ли найти правую границу величины B и ее среднее значение зная, что левая граница равна 0.5? Если да, найдите ее."
      ],
      "metadata": {
        "id": "F1sq6q05SyP3"
      }
    },
    {
      "cell_type": "code",
      "source": [
        "#да можно найти, выразив через формулу нахождения дисперсии.\n",
        "#из формулы D(X) = ((a-b)**2)/12\n",
        "b = 0.5 + pow(2.4, 0.5)\n",
        "print(b)\n",
        "print((0.5 + b) / 2)"
      ],
      "metadata": {
        "id": "1HYUtU4iS27S",
        "colab": {
          "base_uri": "https://localhost:8080/"
        },
        "outputId": "a504ade9-1305-4bad-f6a0-e32a23263b31"
      },
      "execution_count": null,
      "outputs": [
        {
          "output_type": "stream",
          "name": "stdout",
          "text": [
            "2.049193338482967\n",
            "1.2745966692414834\n"
          ]
        }
      ]
    },
    {
      "cell_type": "markdown",
      "source": [
        "## 3. Непрерывная случайная величина X распределена нормально и задана плотностью распределения f(x) = (1 / (4 * sqrt(2*pi))) * (exp(-(x+2)**2) / 32). Найдите: \n",
        "## а). M(X) \n",
        "## б). D(X) \n",
        "## в). std(X) (среднее квадратичное отклонение)"
      ],
      "metadata": {
        "id": "wcEs30knS414"
      }
    },
    {
      "cell_type": "code",
      "source": [
        "# D(X) это сигма в формуле. D(X) = 4\n",
        "# M(X) это a в формуле. M(X) = -2 \n",
        "# std(X) = 2 (корень из дисперсии)"
      ],
      "metadata": {
        "id": "OARPHHpDTDbL"
      },
      "execution_count": null,
      "outputs": []
    },
    {
      "cell_type": "markdown",
      "source": [
        "## 4. Рост взрослого населения города X имеет нормальное распределение. Причем, средний рост равен 174 см, а среднее квадратичное отклонение равно 8 см. Какова вероятность того, что случайным образом выбранный взрослый человек имеет рост:\n",
        "## а). больше 182 см\n",
        "## б). больше 190 см\n",
        "## в). от 166 см до 190 см\n",
        "## г). от 166 см до 182 см\n",
        "## д). от 158 см до 190 см\n",
        "## е). не выше 150 см или не ниже 190 см\n",
        "## ё). не выше 150 см или не ниже 198 см\n",
        "## ж). ниже 166 см."
      ],
      "metadata": {
        "id": "99vcLTNxTFyd"
      }
    },
    {
      "cell_type": "code",
      "source": [
        "from scipy.stats import norm\n",
        "\n",
        "norm.cdf(1) #(182-174) / 8 = 1\n",
        "#получили вероятность меньше или равно 182 см роста\n",
        "print(f'{1 - norm.cdf(1)} - A')\n",
        "\n",
        "print(f'{1 - norm.cdf((190-174)/8)} - Б')\n",
        "\n",
        "#В\n",
        "low166 = norm.cdf((166-174)/8) # меньше 166 рост получить\n",
        "low190 = norm.cdf((190-174)/8) # меньше 190 рост получить\n",
        "print(f'{low190 - low166} - B')\n",
        "\n",
        "#Г\n",
        "low182 = norm.cdf((182-174)/8) #меньше 182 рост получить\n",
        "print(f'{low182 - low166} - Г')\n",
        "\n",
        "#Д\n",
        "low158 = norm.cdf((158-174)/8) #меньше 158 рост получить\n",
        "print(f'{low190-low158} - Д')\n",
        "\n",
        "#E\n",
        "low150 = norm.cdf((150-174)/8) #меньше 150 рост получить\n",
        "high190 = 1 - norm.cdf((190-174)/8) #выше 190 рост получить\n",
        "print(f'{low150 + high190} - E')\n",
        "\n",
        "#Ё\n",
        "high198 = 1 - norm.cdf((198-174)/8) #выше 198\n",
        "print(f'{low150 + high198} - Ё')\n",
        "\n",
        "#Ж\n",
        "print(f'{norm.cdf((166-174)/8)} - Ж')"
      ],
      "metadata": {
        "id": "DSDs1tC2TPmc",
        "colab": {
          "base_uri": "https://localhost:8080/"
        },
        "outputId": "e3a934ba-4265-46a1-aada-06e3ae34782d"
      },
      "execution_count": null,
      "outputs": [
        {
          "output_type": "stream",
          "name": "stdout",
          "text": [
            "0.15865525393145707 - A\n",
            "0.02275013194817921 - Б\n",
            "0.8185946141203637 - B\n",
            "0.6826894921370859 - Г\n",
            "0.9544997361036416 - Д\n",
            "0.0241000299798093 - E\n",
            "0.0026997960632601965 - Ё\n",
            "0.15865525393145707 - Ж\n"
          ]
        }
      ]
    },
    {
      "cell_type": "markdown",
      "source": [
        "## 5. На сколько сигм (средних квадратичных отклонений) отклоняется рост человека, равный 190 см, от математического ожидания роста в популяции, в которой M(X) = 178 см и D(X) = 25 кв.см?"
      ],
      "metadata": {
        "id": "sfa9kwD3TSH2"
      }
    },
    {
      "cell_type": "code",
      "source": [
        "#в 3 сигмы укладывается, а точнее:\n",
        "# 190 - 178 = 12\n",
        "# корень из 25 = 5\n",
        "# 12/5 = 2.4 (сигмы)"
      ],
      "metadata": {
        "id": "OCpawurfTUUt"
      },
      "execution_count": null,
      "outputs": []
    },
    {
      "cell_type": "code",
      "source": [],
      "metadata": {
        "id": "UzkxQSLRtgXs"
      },
      "execution_count": null,
      "outputs": []
    }
  ]
}