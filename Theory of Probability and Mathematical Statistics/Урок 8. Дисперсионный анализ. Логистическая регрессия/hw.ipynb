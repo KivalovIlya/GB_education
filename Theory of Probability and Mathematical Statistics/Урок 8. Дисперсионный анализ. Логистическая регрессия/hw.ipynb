{
  "nbformat": 4,
  "nbformat_minor": 0,
  "metadata": {
    "colab": {
      "provenance": [],
      "collapsed_sections": []
    },
    "kernelspec": {
      "name": "python3",
      "display_name": "Python 3"
    },
    "language_info": {
      "name": "python"
    }
  },
  "cells": [
    {
      "cell_type": "markdown",
      "source": [
        "Провести дисперсионный анализ для определения того, есть ли различия среднего роста среди взрослых футболистов, хоккеистов и штангистов"
      ],
      "metadata": {
        "id": "qH-pNxZNFQhR"
      }
    },
    {
      "cell_type": "code",
      "execution_count": null,
      "metadata": {
        "id": "3sTg8doYFL0U"
      },
      "outputs": [],
      "source": [
        "import numpy as np\n",
        "\n",
        "f_y1 = np.array([173, 175, 180, 178, 177, 185, 183, 182])\n",
        "h_y2 = np.array([177, 179, 180, 188, 177, 172, 171, 184, 180])\n",
        "l_y3 = np.array([172, 173, 169, 177, 166, 180, 178, 177, 172, 166, 170])\n",
        "\n",
        "n1 = f_y1.shape[0]\n",
        "n2 = h_y2.shape[0]\n",
        "n3 = l_y3.shape[0]"
      ]
    },
    {
      "cell_type": "code",
      "source": [
        "y1_mean = f_y1.mean()\n",
        "y2_mean = h_y2.mean()\n",
        "y3_mean = l_y3.mean()\n",
        "\n",
        "y1_mean, y2_mean, y3_mean\n",
        "#а футболисты и хоккеисты близки однако\n",
        "#проверим статистическую значимость"
      ],
      "metadata": {
        "colab": {
          "base_uri": "https://localhost:8080/"
        },
        "id": "AOU-8TYuFWlc",
        "outputId": "bfea6a97-d01a-4243-f0c7-aa8336b8bf78"
      },
      "execution_count": null,
      "outputs": [
        {
          "output_type": "execute_result",
          "data": {
            "text/plain": [
              "(179.125, 178.66666666666666, 172.72727272727272)"
            ]
          },
          "metadata": {},
          "execution_count": 6
        }
      ]
    },
    {
      "cell_type": "code",
      "source": [
        "#единый массив трех выборок\n",
        "y = np.concatenate([f_y1, h_y2, l_y3])\n",
        "y_mean = y.mean() #общая средняя"
      ],
      "metadata": {
        "id": "q2IQgES4F797"
      },
      "execution_count": null,
      "outputs": []
    },
    {
      "cell_type": "markdown",
      "source": [
        "Найдём значения $S_F$ и $S_{res}$:"
      ],
      "metadata": {
        "id": "azbs7i-fGnaj"
      }
    },
    {
      "cell_type": "code",
      "source": [
        "S2_F = n1 * (y1_mean - y_mean) ** 2 + n2 * (y2_mean - y_mean) ** 2 + n3 * (y3_mean - y_mean) ** 2\n",
        "S2_res = ((f_y1 - y1_mean) ** 2).sum() + ((h_y2 - y2_mean) ** 2).sum() + ((l_y3 - y3_mean) ** 2).sum()\n",
        "S2_F, S2_res"
      ],
      "metadata": {
        "colab": {
          "base_uri": "https://localhost:8080/"
        },
        "id": "Ff6ZiErIGmqk",
        "outputId": "a4e214b8-54e6-4667-815d-d0dc61874b03"
      },
      "execution_count": null,
      "outputs": [
        {
          "output_type": "execute_result",
          "data": {
            "text/plain": [
              "(253.9074675324678, 577.0568181818182)"
            ]
          },
          "metadata": {},
          "execution_count": 8
        }
      ]
    },
    {
      "cell_type": "code",
      "source": [
        "S2_F + S2_res == ((y - y_mean) ** 2).sum()"
      ],
      "metadata": {
        "colab": {
          "base_uri": "https://localhost:8080/"
        },
        "id": "qmIXCTqyGwiR",
        "outputId": "ae313da7-5234-40cf-8a3d-cbdc68111e79"
      },
      "execution_count": null,
      "outputs": [
        {
          "output_type": "execute_result",
          "data": {
            "text/plain": [
              "False"
            ]
          },
          "metadata": {},
          "execution_count": 9
        }
      ]
    },
    {
      "cell_type": "code",
      "source": [
        "253.9074675324678 + 577.0568181818182"
      ],
      "metadata": {
        "colab": {
          "base_uri": "https://localhost:8080/"
        },
        "id": "l75B_1biGzcb",
        "outputId": "d14f40bf-ab15-4447-cdce-6675c6e4870b"
      },
      "execution_count": null,
      "outputs": [
        {
          "output_type": "execute_result",
          "data": {
            "text/plain": [
              "830.964285714286"
            ]
          },
          "metadata": {},
          "execution_count": 10
        }
      ]
    },
    {
      "cell_type": "code",
      "source": [
        "((y - y_mean) ** 2).sum()"
      ],
      "metadata": {
        "colab": {
          "base_uri": "https://localhost:8080/"
        },
        "id": "YHj8I5N3G9up",
        "outputId": "7d87b272-6a6e-43b3-ed10-5d2c8a793a41"
      },
      "execution_count": null,
      "outputs": [
        {
          "output_type": "execute_result",
          "data": {
            "text/plain": [
              "830.9642857142854"
            ]
          },
          "metadata": {},
          "execution_count": 11
        }
      ]
    },
    {
      "cell_type": "markdown",
      "source": [
        "830.964285714286 == 830.9642857142854 👌"
      ],
      "metadata": {
        "id": "fEt2Xa1SHGsG"
      }
    },
    {
      "cell_type": "code",
      "source": [
        "k = 3\n",
        "n = n1 + n2 + n3\n",
        "\n",
        "k1 = k - 1\n",
        "k2 = n - k\n",
        "\n",
        "sigma2_F = S2_F / k1\n",
        "sigma2_res = S2_res / k2\n",
        "\n",
        "sigma2_F, sigma2_res"
      ],
      "metadata": {
        "colab": {
          "base_uri": "https://localhost:8080/"
        },
        "id": "AXEDnqUUHAOR",
        "outputId": "fc10a003-8111-451c-8397-8cf84c8cda68"
      },
      "execution_count": null,
      "outputs": [
        {
          "output_type": "execute_result",
          "data": {
            "text/plain": [
              "(126.9537337662339, 23.08227272727273)"
            ]
          },
          "metadata": {},
          "execution_count": 12
        }
      ]
    },
    {
      "cell_type": "code",
      "source": [
        "T = sigma2_F / sigma2_res\n",
        "T"
      ],
      "metadata": {
        "colab": {
          "base_uri": "https://localhost:8080/"
        },
        "id": "_CeHCxqFHQvW",
        "outputId": "2d21ce77-6470-4962-88c5-ef23edd5ab46"
      },
      "execution_count": null,
      "outputs": [
        {
          "output_type": "execute_result",
          "data": {
            "text/plain": [
              "5.500053450812598"
            ]
          },
          "metadata": {},
          "execution_count": 13
        }
      ]
    },
    {
      "cell_type": "code",
      "source": [
        "from scipy import stats\n",
        "alpha = 0.05\n",
        "\n",
        "F_crit = stats.f.ppf(1 - alpha, k1, k2)\n",
        "F_crit"
      ],
      "metadata": {
        "colab": {
          "base_uri": "https://localhost:8080/"
        },
        "id": "s3CizQk0HSbY",
        "outputId": "db27ebe7-2c60-43d3-a49e-c986a5f1f649"
      },
      "execution_count": null,
      "outputs": [
        {
          "output_type": "execute_result",
          "data": {
            "text/plain": [
              "3.3851899614491687"
            ]
          },
          "metadata": {},
          "execution_count": 14
        }
      ]
    },
    {
      "cell_type": "markdown",
      "source": [
        "Видим, что $T > F_{crit}$, поэтому заключаем, что отличие среднего роста действительно является статистически значимым."
      ],
      "metadata": {
        "id": "eet9Vx7DHYwz"
      }
    }
  ]
}