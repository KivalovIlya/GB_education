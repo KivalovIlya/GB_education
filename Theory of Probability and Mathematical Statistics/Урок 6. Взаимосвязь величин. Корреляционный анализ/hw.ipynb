{
  "nbformat": 4,
  "nbformat_minor": 0,
  "metadata": {
    "colab": {
      "provenance": [],
      "collapsed_sections": [
        "WFB39Ins4f6Y",
        "4pAzOJj45W7b",
        "GfgdPGzA565m"
      ]
    },
    "kernelspec": {
      "name": "python3",
      "display_name": "Python 3"
    },
    "language_info": {
      "name": "python"
    }
  },
  "cells": [
    {
      "cell_type": "markdown",
      "source": [
        "### Даны значения величины заработной платы заемщиков банка (zp) и значения их поведенческого кредитного скоринга (ks):  \n",
        "### zp = [35, 45, 190, 200, 40, 70, 54, 150, 120, 110],  \n",
        "### ks = [401, 574, 874, 919, 459, 739, 653, 902, 746, 832].\n",
        "### Найдите ковариацию этих двух величин с помощью элементарных действий, а затем с помощью функции cov из numpy. Полученные значения должны быть равны. Найдите коэффициент корреляции Пирсона с помощью ковариации и среднеквадратичных отклонений двух признаков, а затем с использованием функций из библиотек numpy и pandas."
      ],
      "metadata": {
        "id": "WFB39Ins4f6Y"
      }
    },
    {
      "cell_type": "code",
      "source": [
        "import numpy as np\n",
        "\n",
        "zp = np.array([35, 45, 190, 200, 40, 70, 54, 150, 120, 110])\n",
        "kz = np.array([401, 574, 874, 919, 459, 739, 653, 902, 746, 832])\n",
        "\n",
        "#посчитаем среднее каждого списка\n",
        "Mzp = zp.mean()\n",
        "Mkz = kz.mean()\n",
        "\n",
        "cov = ((zp - Mzp) * (kz - Mkz)).sum() / (len(zp) - 1)\n",
        "print(cov)"
      ],
      "metadata": {
        "colab": {
          "base_uri": "https://localhost:8080/"
        },
        "id": "S9_Be_N_5WuG",
        "outputId": "aea06821-2c60-463c-ac6c-cd2dd28a076f"
      },
      "execution_count": null,
      "outputs": [
        {
          "output_type": "stream",
          "name": "stdout",
          "text": [
            "10175.37777777778\n"
          ]
        }
      ]
    },
    {
      "cell_type": "markdown",
      "source": [
        "Теперь при помощи cov"
      ],
      "metadata": {
        "id": "UG1y8yF4uCAd"
      }
    },
    {
      "cell_type": "code",
      "source": [
        "print(np.cov(zp, kz))"
      ],
      "metadata": {
        "colab": {
          "base_uri": "https://localhost:8080/"
        },
        "id": "bWkQAsAZuNiX",
        "outputId": "23685e0d-c592-466b-a9a3-0b28d4fe3a4b"
      },
      "execution_count": null,
      "outputs": [
        {
          "output_type": "stream",
          "name": "stdout",
          "text": [
            "[[ 3882.93333333 10175.37777778]\n",
            " [10175.37777778 33854.32222222]]\n"
          ]
        }
      ]
    },
    {
      "cell_type": "markdown",
      "source": [
        "Найдите коэффициент корреляции Пирсона с помощью ковариации и среднеквадратичных отклонений двух признаков\n",
        "\n",
        "$$r_{XY} = \\frac{cov_{XY}}{\\sigma_{X}\\sigma_{Y}}$$"
      ],
      "metadata": {
        "id": "ZKIDMVz5YMau"
      }
    },
    {
      "cell_type": "code",
      "source": [
        "corr = ((zp - Mzp) * (kz - Mkz)).sum() / (len(zp)) / (zp.std() * kz.std())\n",
        "corr"
      ],
      "metadata": {
        "colab": {
          "base_uri": "https://localhost:8080/"
        },
        "id": "UVbRytoqYRcd",
        "outputId": "63f0acff-379a-42d5-da64-c0549540d033"
      },
      "execution_count": null,
      "outputs": [
        {
          "output_type": "execute_result",
          "data": {
            "text/plain": [
              "0.8874900920739162"
            ]
          },
          "metadata": {},
          "execution_count": 39
        }
      ]
    },
    {
      "cell_type": "markdown",
      "source": [
        "При помощи corrcoef"
      ],
      "metadata": {
        "id": "97ZK8rUsv3v_"
      }
    },
    {
      "cell_type": "code",
      "source": [
        "corrcoef = np.corrcoef(zp, kz)\n",
        "corrcoef"
      ],
      "metadata": {
        "colab": {
          "base_uri": "https://localhost:8080/"
        },
        "id": "Do7Y5eDXsAmU",
        "outputId": "e4aa6c5f-cc02-4b6c-d642-f3d9926473e7"
      },
      "execution_count": null,
      "outputs": [
        {
          "output_type": "execute_result",
          "data": {
            "text/plain": [
              "array([[1.        , 0.88749009],\n",
              "       [0.88749009, 1.        ]])"
            ]
          },
          "metadata": {},
          "execution_count": 36
        }
      ]
    },
    {
      "cell_type": "markdown",
      "source": [
        "### Измерены значения IQ выборки студентов, обучающихся в местных технических вузах: 131, 125, 115, 122, 131, 115, 107, 99, 125, 111.  Известно, что в генеральной совокупности IQ распределен нормально.  Найдите доверительный интервал для математического ожидания с надежностью 0.95."
      ],
      "metadata": {
        "id": "4pAzOJj45W7b"
      }
    },
    {
      "cell_type": "code",
      "source": [
        "iq = np.array([131, 125, 115, 122, 131, 115, 107, 99, 125, 111])\n",
        "iq_mean = iq.mean()\n",
        "iq_s = iq.std(ddof=1)\n",
        "print(iq_mean, iq_s)"
      ],
      "metadata": {
        "id": "NTIk0ysf56uR",
        "colab": {
          "base_uri": "https://localhost:8080/"
        },
        "outputId": "085e8f4e-71c7-4665-ecaa-ff304fcca66c"
      },
      "execution_count": null,
      "outputs": [
        {
          "output_type": "stream",
          "name": "stdout",
          "text": [
            "118.1 10.54566788359614\n"
          ]
        }
      ]
    },
    {
      "cell_type": "markdown",
      "source": [
        "$$\n",
        "P \\left( \n",
        "118.1 - t_{1 - 0.95/2, \\: 10 - 1} \\cdot \\dfrac{10.5456}{\\sqrt{10}} \n",
        "\\leq M(X) \\leq\n",
        "118.1 + t_{1 - 0.95/2, \\: 10 - 1} \\cdot \\dfrac{10.5456}{\\sqrt{10}} \n",
        "\\right) = 1 - \\alpha.\n",
        "$$"
      ],
      "metadata": {
        "id": "LO6sYbEUx3rn"
      }
    },
    {
      "cell_type": "markdown",
      "source": [
        "$$\n",
        "P \\left( \n",
        "118.1 - 2.2621 \\cdot \\dfrac{10.5456}{3,1622} \n",
        "\\leq M(X) \\leq\n",
        "118.1 + 2.2621\\cdot \\dfrac{10.5456}{3,1622} \n",
        "\\right) = 1 - \\alpha.\n",
        "$$"
      ],
      "metadata": {
        "id": "g3Cfs9kAy9Jj"
      }
    },
    {
      "cell_type": "markdown",
      "source": [
        "$$\n",
        "P \\left( \n",
        "118.1 - 7,5438 \n",
        "\\leq M(X) \\leq\n",
        "118.1 + 7,5438 \n",
        "\\right)\n",
        "$$"
      ],
      "metadata": {
        "id": "AOBKBIYfztrN"
      }
    },
    {
      "cell_type": "markdown",
      "source": [
        "$$\n",
        " \\left( \n",
        "110.55 \n",
        "\\leq M(X) \\leq\n",
        "125.64\n",
        "\\right)\n",
        "$$"
      ],
      "metadata": {
        "id": "seaCok3Y0CIH"
      }
    },
    {
      "cell_type": "markdown",
      "source": [
        "### Известно, что рост футболистов в сборной распределен нормально с дисперсией генеральной совокупности, равной 25 кв.см. Объем выборки равен 27, среднее выборочное составляет 174.2. Найдите доверительный интервал для математического ожидания с надежностью 0.95."
      ],
      "metadata": {
        "id": "GfgdPGzA565m"
      }
    },
    {
      "cell_type": "code",
      "source": [
        "#получим среднеквадратическое отклонение взяв корень из дисперсии.\n",
        "s = np.sqrt(25) #5"
      ],
      "metadata": {
        "id": "kAaUC0116HhK"
      },
      "execution_count": null,
      "outputs": []
    },
    {
      "cell_type": "markdown",
      "source": [
        "$$\n",
        "P \\left( \n",
        "174.2 - t_{1 - 0.95/2, \\: 27 - 1} \\cdot \\dfrac{5}{\\sqrt{27}} \n",
        "\\leq M(X) \\leq\n",
        "174.2 + t_{1 - 0.95/2, \\: 27 - 1} \\cdot \\dfrac{5}{\\sqrt{27}} \n",
        "\\right) = 1 - \\alpha.\n",
        "$$"
      ],
      "metadata": {
        "id": "mDGYM4u62Tan"
      }
    },
    {
      "cell_type": "markdown",
      "source": [
        "$$\n",
        " \\left( \n",
        "174.2 - 2.0555 \\cdot \\dfrac{5}{\\sqrt{27}} \n",
        "\\leq M(X) \\leq\n",
        "174.2 + 2.0555 \\cdot \\dfrac{5}{\\sqrt{27}} \n",
        "\\right)\n",
        "$$"
      ],
      "metadata": {
        "id": "arz4WCu72shf"
      }
    },
    {
      "cell_type": "markdown",
      "source": [
        "$$\n",
        " \\left( \n",
        "174.2 - 1,9779\n",
        "\\leq M(X) \\leq\n",
        "174.2 + 1,9779\n",
        "\\right)\n",
        "$$"
      ],
      "metadata": {
        "id": "svN34RK32-pZ"
      }
    },
    {
      "cell_type": "markdown",
      "source": [
        "$$\n",
        " \\left( \n",
        "172,22\n",
        "\\leq M(X) \\leq\n",
        "176,17\n",
        "\\right)\n",
        "$$"
      ],
      "metadata": {
        "id": "t8F84Cc13UBO"
      }
    }
  ]
}