{
 "cells": [
  {
   "cell_type": "markdown",
   "id": "06bd10df",
   "metadata": {},
   "source": [
    "1) Взять любую категорию товаров на сайте Леруа Мерлен. Собрать следующие данные:  \n",
    "● название;  \n",
    "● все фото;  \n",
    "● ссылка;  \n",
    "● цена.  \n",
    "  \n",
    "Реализуйте очистку и преобразование данных с помощью ItemLoader. Цены должны быть в виде числового значения."
   ]
  },
  {
   "cell_type": "code",
   "execution_count": null,
   "id": "19891a63",
   "metadata": {},
   "outputs": [],
   "source": []
  }
 ],
 "metadata": {
  "kernelspec": {
   "display_name": "Python 3 (ipykernel)",
   "language": "python",
   "name": "python3"
  },
  "language_info": {
   "codemirror_mode": {
    "name": "ipython",
    "version": 3
   },
   "file_extension": ".py",
   "mimetype": "text/x-python",
   "name": "python",
   "nbconvert_exporter": "python",
   "pygments_lexer": "ipython3",
   "version": "3.9.13"
  }
 },
 "nbformat": 4,
 "nbformat_minor": 5
}
