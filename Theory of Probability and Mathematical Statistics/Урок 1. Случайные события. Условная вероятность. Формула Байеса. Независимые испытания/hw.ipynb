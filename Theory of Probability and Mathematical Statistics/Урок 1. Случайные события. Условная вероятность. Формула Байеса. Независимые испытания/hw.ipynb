{
  "nbformat": 4,
  "nbformat_minor": 0,
  "metadata": {
    "colab": {
      "provenance": [],
      "collapsed_sections": []
    },
    "kernelspec": {
      "name": "python3",
      "display_name": "Python 3"
    },
    "language_info": {
      "name": "python"
    }
  },
  "cells": [
    {
      "cell_type": "code",
      "source": [
        "from math import factorial\n",
        "\n",
        "#расстановки/размещения (порядок важен)\n",
        "def A(n, m):\n",
        "  try:\n",
        "    return factorial(n) / factorial(n-m)\n",
        "  except ValueError:\n",
        "    print('Ошибка: m должен быть < n')\n",
        "\n",
        "\n",
        "#сочетания (порядок не важен)\n",
        "def C(n, m):\n",
        "  try:\n",
        "    return factorial(n) / (factorial(m) * factorial(n-m))\n",
        "  except ValueError:\n",
        "    print('Ошибка: m должен быть < n')\n"
      ],
      "metadata": {
        "id": "yyDCWVJkJ4EG"
      },
      "execution_count": null,
      "outputs": []
    },
    {
      "cell_type": "code",
      "source": [],
      "metadata": {
        "id": "k2qZ0U5_gOv-"
      },
      "execution_count": null,
      "outputs": []
    },
    {
      "cell_type": "markdown",
      "source": [
        "## 1. Из колоды в 52 карты извлекаются случайным образом 4 карты.   \n",
        "a) Найти вероятность того, что все карты – крести.   \n"
      ],
      "metadata": {
        "id": "JJjndZ4vesVm"
      }
    },
    {
      "cell_type": "code",
      "source": [
        "#Посчитаем сколько возможных вариантов вытащить 4 карты из колоды (порядок нам не важен)\n",
        "all_variants = C(52, 4)\n",
        "#Посчитаем сколько вариантов вытащить 4 карты из всех крести\n",
        "kresti_all_variants = C(13, 4)\n",
        "#Поделим нужные сборки из 4 карт на все возможные сборки из 4 карт\n",
        "res = kresti_all_variants / all_variants\n",
        "res"
      ],
      "metadata": {
        "colab": {
          "base_uri": "https://localhost:8080/"
        },
        "id": "ITwEIqfPc6zh",
        "outputId": "65e9131d-1599-4d01-f06c-52ceff136c58"
      },
      "execution_count": null,
      "outputs": [
        {
          "output_type": "execute_result",
          "data": {
            "text/plain": [
              "0.0026410564225690276"
            ]
          },
          "metadata": {},
          "execution_count": 9
        }
      ]
    },
    {
      "cell_type": "markdown",
      "source": [
        "б) Найти вероятность, что среди 4-х карт окажется хотя бы один туз.  "
      ],
      "metadata": {
        "id": "gdLnyWXvezef"
      }
    },
    {
      "cell_type": "code",
      "source": [
        "#Посчитаем все варианты с 4 картами \n",
        "all_variants = C(52, 4)\n",
        "#Посчитаем все варианты с 4 карты из колоды БЕЗ туза\n",
        "without_tyz = C(48, 4)\n",
        "#В итоге получим вероятность вытянуть 4 карты вообще без туза. И далее получим\n",
        "#обратное отняв от единицы.\n",
        "res = 1 - without_tyz / all_variants\n",
        "res"
      ],
      "metadata": {
        "colab": {
          "base_uri": "https://localhost:8080/"
        },
        "id": "L8P_hNvBdMHA",
        "outputId": "8c7fcc21-2182-45ce-dcee-601ed58b8a8f"
      },
      "execution_count": null,
      "outputs": [
        {
          "output_type": "execute_result",
          "data": {
            "text/plain": [
              "0.2812632745405854"
            ]
          },
          "metadata": {},
          "execution_count": 10
        }
      ]
    },
    {
      "cell_type": "markdown",
      "source": [
        "## 2. На входной двери подъезда установлен кодовый замок, содержащий десять кнопок с цифрами от 0 до 9. Код содержит три цифры, которые нужно нажать одновременно. Какова вероятность того, что человек, не знающий код, откроет дверь с первой попытки?"
      ],
      "metadata": {
        "id": "rP_Hp1SqkJvD"
      }
    },
    {
      "cell_type": "code",
      "source": [
        "#порядок важен\n",
        "#посчитаем ВСЕ возможные варианты паролей\n",
        "all_variants = A(10, 3)\n",
        "#благоприятный для нас исход 1, поэтому один делим на все возможные и получаем вероятность отгадать пароль с первой попытки\n",
        "res = 1 / all_variants\n",
        "res"
      ],
      "metadata": {
        "colab": {
          "base_uri": "https://localhost:8080/"
        },
        "id": "OMEwRrOLkQWB",
        "outputId": "2cfd6a7a-38f6-4b25-b78d-9d75feb7ebf2"
      },
      "execution_count": null,
      "outputs": [
        {
          "output_type": "execute_result",
          "data": {
            "text/plain": [
              "0.001388888888888889"
            ]
          },
          "metadata": {},
          "execution_count": 13
        }
      ]
    },
    {
      "cell_type": "markdown",
      "source": [
        "## 3. В ящике имеется 15 деталей, из которых 9 окрашены. Рабочий случайным образом извлекает 3 детали. Какова вероятность того, что все извлеченные детали окрашены?"
      ],
      "metadata": {
        "id": "0vjTJLJ1lG1f"
      }
    },
    {
      "cell_type": "code",
      "source": [
        "#порядок нам не важен\n",
        "#посчитаем количество всех возможных вариантов достать 3 детали из 15\n",
        "all_variants = C(15, 3)\n",
        "#посчитаем количество вариантов достать 3 детали из 9\n",
        "color_detal = C(9, 3)\n",
        "res = color_detal / all_variants\n",
        "res"
      ],
      "metadata": {
        "colab": {
          "base_uri": "https://localhost:8080/"
        },
        "id": "ooQAxahblJkM",
        "outputId": "10e07b1b-8a40-45f2-ecd3-6d1360f3d663"
      },
      "execution_count": null,
      "outputs": [
        {
          "output_type": "execute_result",
          "data": {
            "text/plain": [
              "0.18461538461538463"
            ]
          },
          "metadata": {},
          "execution_count": 14
        }
      ]
    },
    {
      "cell_type": "markdown",
      "source": [
        "## 4. В лотерее 100 билетов. Из них 2 выигрышных. Какова вероятность того, что 2 приобретенных билета окажутся выигрышными?"
      ],
      "metadata": {
        "id": "HHZD_2zjmJ7v"
      }
    },
    {
      "cell_type": "code",
      "source": [
        "#порядок не важен\n",
        "#посчитаем все варианты достать 2 билета\n",
        "all_variants = C(100, 2)\n",
        "#варианты достать 2 билета из 2 выигрышных \n",
        "win_ticket = C(2, 2)\n",
        "res = win_ticket / all_variants\n",
        "res"
      ],
      "metadata": {
        "colab": {
          "base_uri": "https://localhost:8080/"
        },
        "id": "XUyMhNKSmLot",
        "outputId": "11df5d76-dee2-4e4c-b6be-a4c6c6a70251"
      },
      "execution_count": null,
      "outputs": [
        {
          "output_type": "execute_result",
          "data": {
            "text/plain": [
              "0.00020202020202020202"
            ]
          },
          "metadata": {},
          "execution_count": 15
        }
      ]
    },
    {
      "cell_type": "markdown",
      "source": [
        "## 5. На соревновании по биатлону один из трех спортсменов стреляет и попадает в мишень. Вероятность попадания для первого спортсмена равна 0.9, для второго — 0.8, для третьего — 0.6. Найти вероятность того, что выстрел произведен:  \n",
        " a) первым спортсменом"
      ],
      "metadata": {
        "id": "wzLC4OItm5t7"
      }
    },
    {
      "cell_type": "code",
      "source": [
        "#верятность того, что выстрел был произведен 1/3\n",
        "#расчеты будем производить по формуле байеса\n",
        "#так как зманетаель для расчетов заданиа А,Б,В одинаковый, то сразу его запишем\n",
        "denominator = (1/3)*0.6 + (1/3)*0.8 + (1/3)*0.9\n",
        "res = ((1/3)*0.9)/denominator\n",
        "res"
      ],
      "metadata": {
        "colab": {
          "base_uri": "https://localhost:8080/"
        },
        "id": "o9rXcQWdm1ab",
        "outputId": "1852f629-3421-4ec6-ccaa-114ac5f2f1e7"
      },
      "execution_count": null,
      "outputs": [
        {
          "output_type": "execute_result",
          "data": {
            "text/plain": [
              "0.391304347826087"
            ]
          },
          "metadata": {},
          "execution_count": 20
        }
      ]
    },
    {
      "cell_type": "markdown",
      "source": [
        "б)вторым спортсменом"
      ],
      "metadata": {
        "id": "8KCszJFPnE_O"
      }
    },
    {
      "cell_type": "code",
      "source": [
        "res = ((1/3)*0.8)/denominator\n",
        "res"
      ],
      "metadata": {
        "colab": {
          "base_uri": "https://localhost:8080/"
        },
        "id": "XONaepMdnHSV",
        "outputId": "6e5a8481-a810-4842-b7b8-11b566ccd26b"
      },
      "execution_count": null,
      "outputs": [
        {
          "output_type": "execute_result",
          "data": {
            "text/plain": [
              "0.3478260869565218"
            ]
          },
          "metadata": {},
          "execution_count": 22
        }
      ]
    },
    {
      "cell_type": "markdown",
      "source": [
        "в)третьим спортсменом"
      ],
      "metadata": {
        "id": "8Abq_rCfnIZn"
      }
    },
    {
      "cell_type": "code",
      "source": [
        "res = ((1/3)*0.6)/denominator\n",
        "res"
      ],
      "metadata": {
        "colab": {
          "base_uri": "https://localhost:8080/"
        },
        "id": "Bf7LZ0rynJV0",
        "outputId": "4d80b253-799d-466b-8c59-8d740e4eeb8d"
      },
      "execution_count": null,
      "outputs": [
        {
          "output_type": "execute_result",
          "data": {
            "text/plain": [
              "0.2608695652173913"
            ]
          },
          "metadata": {},
          "execution_count": 23
        }
      ]
    },
    {
      "cell_type": "code",
      "source": [],
      "metadata": {
        "id": "UtzZ1cbwsNv3"
      },
      "execution_count": null,
      "outputs": []
    }
  ]
}